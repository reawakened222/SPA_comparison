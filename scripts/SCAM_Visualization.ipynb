{
 "cells": [
  {
   "cell_type": "code",
   "execution_count": null,
   "id": "7cc994d9",
   "metadata": {},
   "outputs": [],
   "source": [
    "import pandas as pd\n",
    "import numpy as np\n",
    "import re"
   ]
  },
  {
   "cell_type": "code",
   "execution_count": null,
   "id": "7531dcfc",
   "metadata": {},
   "outputs": [],
   "source": [
    "def pandas_df_to_latex_table(df, \n",
    "                             indent=False, \n",
    "                             vert_lines_locs=None, \n",
    "                             wrap_in_table=False, \n",
    "                             caption_string=None, \n",
    "                             label_str=None):\n",
    "    # Prefix with table stuff\n",
    "    res = '' if indent else r'\\noindent' + '\\n'\n",
    "    if wrap_in_table:\n",
    "        res += r'\\begin{table}[]' + '\\n'\n",
    "    else:\n",
    "        assert (caption_string is None),\"Caption String requires table wrapping\"\n",
    "        assert (label_str is None),\"Label String requires table wrapping\"\n",
    "        \n",
    "    res += r'\\footnotesize' + '\\n'\n",
    "    table = df.to_latex(index=False)\n",
    "    tabular = re.sub(r'([a-zA-Z]+)\\\\_(\\S+)', r'$\\1_{\\2}$', table)\n",
    "    if vert_lines_locs:\n",
    "        orientation_re = re.compile(r'begin{tabular}\\s*{([^}]*)}')\n",
    "        orientations = re.match(r'\\\\begin{tabular}\\s*{([^}]*)}', tabular)[1]\n",
    "        if orientations:\n",
    "            new_orientation = ''\n",
    "            last_insert = 0\n",
    "            for ind, val in enumerate(vert_lines_locs):\n",
    "                new_orientation += orientations[last_insert:val] + '|' \n",
    "                last_insert = val\n",
    "            if last_insert < len(orientations):\n",
    "                new_orientation += orientations[last_insert:]\n",
    "            tabular = re.sub(r'\\\\begin{tabular}\\s*{([^}]*)}', r'\\\\begin{tabular}{'+ new_orientation + '}', tabular)\n",
    "        else:\n",
    "            print(\"Could not parse tabular format\")\n",
    "    res += tabular\n",
    "    res += r'\\normalsize' + '\\n'\n",
    "    if wrap_in_table:\n",
    "        res += r'\\caption{' + caption_string + '}\\n'\n",
    "        res += r'\\label{tab:' + label_str + '}\\n'\n",
    "        res += '\\end{table}'\n",
    "    return res\n",
    "    \n",
    "    "
   ]
  },
  {
   "cell_type": "code",
   "execution_count": null,
   "id": "67a1e64a",
   "metadata": {},
   "outputs": [],
   "source": [
    "df = pd.read_csv('./DATA/SCAM2021_Data.csv')"
   ]
  },
  {
   "cell_type": "code",
   "execution_count": null,
   "id": "d53708c9",
   "metadata": {},
   "outputs": [],
   "source": [
    "pd.set_option('display.max_columns', 85)\n",
    "pd.set_option('display.max_rows', 85)"
   ]
  },
  {
   "cell_type": "code",
   "execution_count": null,
   "id": "191b0afd",
   "metadata": {
    "scrolled": true
   },
   "outputs": [],
   "source": [
    "df.info()"
   ]
  },
  {
   "cell_type": "code",
   "execution_count": null,
   "id": "454391c6",
   "metadata": {},
   "outputs": [],
   "source": [
    "severity_group = df.groupby(['Tool', 'Severity'])"
   ]
  },
  {
   "cell_type": "code",
   "execution_count": null,
   "id": "c8793f88",
   "metadata": {},
   "outputs": [],
   "source": [
    "tool_severity_group = severity_group[['Production Hits', 'Testcode Hits']]\n",
    "tool_severity_group.sum()"
   ]
  },
  {
   "cell_type": "code",
   "execution_count": null,
   "id": "f2b18688",
   "metadata": {},
   "outputs": [],
   "source": [
    "plot = tool_severity_group.sum().plot.bar(stacked=False,subplots=False, figsize=(20,20))"
   ]
  },
  {
   "cell_type": "code",
   "execution_count": null,
   "id": "774ee6cc",
   "metadata": {},
   "outputs": [],
   "source": [
    "df = pd.read_csv('./DATA/SCAM2021_Data.csv')\n",
    "df.replace('ONLY PRODUCTION', np.nan, inplace=True)"
   ]
  },
  {
   "cell_type": "code",
   "execution_count": null,
   "id": "056d8c08",
   "metadata": {},
   "outputs": [],
   "source": [
    "df = df.dropna()\n",
    "df['Weighted Ratio'] = df['Weighted Ratio'].astype(float)\n",
    "df['Weighted Ratio'] = df['Weighted Ratio'].round(4)\n",
    "df.rename(columns={'Production Hits': 'Hit_P', 'Severity': 'Sev', 'Testcode Hits': 'Hit_T', 'Weighted Ratio': 'Ratio'}, inplace=True)\n",
    "df"
   ]
  },
  {
   "cell_type": "code",
   "execution_count": null,
   "id": "cb5234ff",
   "metadata": {},
   "outputs": [],
   "source": [
    "df.sort_values(by=['Ratio'], ascending=[False], inplace=True)\n",
    "df"
   ]
  },
  {
   "cell_type": "code",
   "execution_count": null,
   "id": "cf8757c8",
   "metadata": {},
   "outputs": [],
   "source": [
    "toolgroup = df.groupby('Tool')"
   ]
  },
  {
   "cell_type": "code",
   "execution_count": null,
   "id": "7db1746e",
   "metadata": {},
   "outputs": [],
   "source": [
    "remove_less_than_this_hits = 5"
   ]
  },
  {
   "cell_type": "code",
   "execution_count": null,
   "id": "f6fe5a22",
   "metadata": {},
   "outputs": [],
   "source": [
    "remove_factors_under_x = 3.0"
   ]
  },
  {
   "cell_type": "code",
   "execution_count": null,
   "id": "dee5343d",
   "metadata": {},
   "outputs": [],
   "source": [
    "high_hit_amount = 300"
   ]
  },
  {
   "cell_type": "code",
   "execution_count": null,
   "id": "b680c0b7",
   "metadata": {},
   "outputs": [],
   "source": [
    "def filter_for_review(df, remove_less_than, remove_by_factor, include_this_high):\n",
    "    less_than_factor = ((df['Hit_T'] >= remove_less_than) & (df['Ratio'] >= remove_by_factor) | (df['Ratio'] <= 1.0/remove_by_factor))\n",
    "    potentially_noisy = ((df['Hit_T'] >= include_this_high) | (df['Hit_P'] >= include_this_high))\n",
    "    return less_than_factor | potentially_noisy"
   ]
  },
  {
   "cell_type": "code",
   "execution_count": null,
   "id": "497d8961",
   "metadata": {},
   "outputs": [],
   "source": [
    "filter_low_hitnums = filter_for_review(df, remove_less_than_this_hits, remove_factors_under_x, high_hit_amount)"
   ]
  },
  {
   "cell_type": "code",
   "execution_count": null,
   "id": "68004de8",
   "metadata": {},
   "outputs": [],
   "source": [
    "it = toolgroup[['Warning', 'Sev', 'Hit_P', 'Hit_T','Ratio']]"
   ]
  },
  {
   "cell_type": "code",
   "execution_count": null,
   "id": "0b4e9a91",
   "metadata": {},
   "outputs": [],
   "source": [
    "tidy_hits = it.get_group('Clang Tidy').sort_values(by=['Ratio'], ascending=[False])"
   ]
  },
  {
   "cell_type": "code",
   "execution_count": null,
   "id": "65b73921",
   "metadata": {},
   "outputs": [],
   "source": [
    "tidy_hits_filtered_lows = tidy_hits[filter_low_hitnums]\n",
    "tidy_hits_filtered_lows\n",
    "tidy_hits_filtered_lows.to_latex(index=False)"
   ]
  },
  {
   "cell_type": "code",
   "execution_count": null,
   "id": "0447bbad",
   "metadata": {},
   "outputs": [],
   "source": [
    "pandas_df_to_latex_table(tidy_hits_filtered_lows)"
   ]
  },
  {
   "cell_type": "code",
   "execution_count": null,
   "id": "3cfeede8",
   "metadata": {},
   "outputs": [],
   "source": [
    "%debug"
   ]
  },
  {
   "cell_type": "code",
   "execution_count": null,
   "id": "a0b2add2",
   "metadata": {},
   "outputs": [],
   "source": [
    "with open(f'DATA/Clang_Tidy_Less_Than_{remove_less_than_this_hits}_{remove_factors_under_x}_{high_hit_amount}_removed.txt', 'w') as file:    \n",
    "    file.write(pandas_df_to_latex_table(tidy_hits_filtered_lows, \n",
    "                                        False, \n",
    "                                        [2,4], \n",
    "                                        False,\n",
    "                                        None,\n",
    "                                        None))"
   ]
  },
  {
   "cell_type": "code",
   "execution_count": null,
   "id": "8316b743",
   "metadata": {},
   "outputs": [],
   "source": [
    "sa_hits = it.get_group('Clang Static Analyzer').sort_values(by=['Ratio'], ascending=[False])"
   ]
  },
  {
   "cell_type": "code",
   "execution_count": null,
   "id": "3bd5147e",
   "metadata": {},
   "outputs": [],
   "source": [
    "sa_hits_filtered_lows = sa_hits[filter_low_hitnums]\n",
    "sa_hits_filtered_lows"
   ]
  },
  {
   "cell_type": "code",
   "execution_count": null,
   "id": "c10fc6f2",
   "metadata": {},
   "outputs": [],
   "source": [
    "with open(f'DATA/Clang_SA_Less_Than_{remove_less_than_this_hits}_{remove_factors_under_x}_{high_hit_amount}_removed.txt', 'w') as file:\n",
    "    file.write(pandas_df_to_latex_table(sa_hits_filtered_lows, False, \n",
    "                                        [2,4], \n",
    "                                        False,\n",
    "                                        None,\n",
    "                                        None))"
   ]
  },
  {
   "cell_type": "code",
   "execution_count": null,
   "id": "49f695d2",
   "metadata": {},
   "outputs": [],
   "source": [
    "cppcheck_hits = it.get_group('CppCheck').sort_values(by=['Ratio'], ascending=[False])\n",
    "cppcheck_hits_filtered_lows = cppcheck_hits[filter_low_hitnums]"
   ]
  },
  {
   "cell_type": "code",
   "execution_count": null,
   "id": "5b7bb080",
   "metadata": {},
   "outputs": [],
   "source": [
    "cppcheck_hits_filtered_lows.filter(items=['Warning', 'Sev', 'Hit_P', 'Hit_T'])"
   ]
  },
  {
   "cell_type": "code",
   "execution_count": null,
   "id": "4f2337c5",
   "metadata": {},
   "outputs": [],
   "source": [
    "with open(f'DATA/CppCheck_Less_Than_{remove_less_than_this_hits}_{remove_factors_under_x}_{high_hit_amount}_removed.txt', 'w') as file:\n",
    "    file.write(pandas_df_to_latex_table(cppcheck_hits_filtered_lows, \n",
    "                                        False, \n",
    "                                        [2,4], \n",
    "                                        False,\n",
    "                                        None,\n",
    "                                        None))"
   ]
  },
  {
   "cell_type": "code",
   "execution_count": null,
   "id": "2db2a841",
   "metadata": {},
   "outputs": [],
   "source": []
  },
  {
   "cell_type": "code",
   "execution_count": null,
   "id": "d5e94880",
   "metadata": {},
   "outputs": [],
   "source": []
  },
  {
   "cell_type": "code",
   "execution_count": null,
   "id": "625f5dcd",
   "metadata": {},
   "outputs": [],
   "source": []
  }
 ],
 "metadata": {
  "kernelspec": {
   "display_name": "Python 3",
   "language": "python",
   "name": "python3"
  },
  "language_info": {
   "codemirror_mode": {
    "name": "ipython",
    "version": 3
   },
   "file_extension": ".py",
   "mimetype": "text/x-python",
   "name": "python",
   "nbconvert_exporter": "python",
   "pygments_lexer": "ipython3",
   "version": "3.8.5"
  }
 },
 "nbformat": 4,
 "nbformat_minor": 5
}
